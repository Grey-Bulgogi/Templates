{
 "cells": [
  {
   "cell_type": "markdown",
   "metadata": {},
   "source": [
    "### 1. Spliting numpy array(or list) into fixed size of N list\n",
    "- split an array with 100,000 elements into 4 list"
   ]
  },
  {
   "cell_type": "code",
   "execution_count": 1,
   "metadata": {},
   "outputs": [],
   "source": [
    "import numpy as np\n",
    "\n",
    "arr = np.random.random(100000)\n",
    "res = np.array_split(arr, 4)"
   ]
  },
  {
   "cell_type": "code",
   "execution_count": 2,
   "metadata": {},
   "outputs": [
    {
     "data": {
      "text/plain": [
       "[array([0.02776865, 0.67532739, 0.88907734, ..., 0.52813193, 0.13780138,\n",
       "        0.50100955]),\n",
       " array([0.38377022, 0.66682547, 0.6400858 , ..., 0.59054295, 0.23278122,\n",
       "        0.59199018]),\n",
       " array([0.57756008, 0.78727528, 0.00201975, ..., 0.85257492, 0.604831  ,\n",
       "        0.02425713]),\n",
       " array([0.36494613, 0.75409481, 0.70433492, ..., 0.30785207, 0.77159689,\n",
       "        0.06046045])]"
      ]
     },
     "execution_count": 2,
     "metadata": {},
     "output_type": "execute_result"
    }
   ],
   "source": [
    "res"
   ]
  }
 ],
 "metadata": {
  "kernelspec": {
   "display_name": "torch",
   "language": "python",
   "name": "torch"
  },
  "language_info": {
   "codemirror_mode": {
    "name": "ipython",
    "version": 3
   },
   "file_extension": ".py",
   "mimetype": "text/x-python",
   "name": "python",
   "nbconvert_exporter": "python",
   "pygments_lexer": "ipython3",
   "version": "3.8.5"
  }
 },
 "nbformat": 4,
 "nbformat_minor": 4
}
