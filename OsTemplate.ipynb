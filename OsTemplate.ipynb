{
 "cells": [
  {
   "cell_type": "markdown",
   "metadata": {},
   "source": [
    "### 1. 복잡한 directory 읽기\n",
    "- 추가로 읽은 파일을 한 디렉토리에 옮기기"
   ]
  },
  {
   "cell_type": "code",
   "execution_count": null,
   "metadata": {},
   "outputs": [],
   "source": [
    "import os\n",
    "import shutil\n",
    "\n",
    "from glob import glob\n",
    "\n",
    "PATH= \"fake\"\n",
    "\n",
    "# 표현 1 -> list comprehension\n",
    "result = [y for x in os.walk(PATH) for y in glob(os.path.join(x[0], '*.jpg'))]\n",
    "\n",
    "# 표현 2\n",
    "for x in os.walk(PATH):\n",
    "    for y in glob(os.path.join(x[0], '*.jpg'))\n",
    "        print(y)\n",
    "\n",
    "# shutill을 이용해 읽은 경로 한 곳에 옮기기\n",
    "for index,location in enumerate(result):\n",
    "    name = \"10_30_fake\\\\\"+str(index)+\".jpg\"\n",
    "    shutil.copy(location, name)"
   ]
  },
  {
   "cell_type": "markdown",
   "metadata": {},
   "source": [
    "### 2. directory 존재 유무 확인 후 생성"
   ]
  },
  {
   "cell_type": "code",
   "execution_count": null,
   "metadata": {},
   "outputs": [],
   "source": [
    "import os\n",
    "\n",
    "if not os.path.exist(PATH):\n",
    "    os.mkdir(path)"
   ]
  }
 ],
 "metadata": {
  "kernelspec": {
   "display_name": "torch",
   "language": "python",
   "name": "torch"
  },
  "language_info": {
   "codemirror_mode": {
    "name": "ipython",
    "version": 3
   },
   "file_extension": ".py",
   "mimetype": "text/x-python",
   "name": "python",
   "nbconvert_exporter": "python",
   "pygments_lexer": "ipython3",
   "version": "3.8.5"
  }
 },
 "nbformat": 4,
 "nbformat_minor": 4
}
