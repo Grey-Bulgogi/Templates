{
 "cells": [
  {
   "cell_type": "markdown",
   "metadata": {},
   "source": [
    "### 1. Module Import"
   ]
  },
  {
   "cell_type": "code",
   "execution_count": 1,
   "metadata": {},
   "outputs": [],
   "source": [
    "import os\n",
    "os.environ[\"CUDA_VISIBLE_DEVICES\"] = '0, 1' #2, 3'\n",
    "\n",
    "from efficientnet_pytorch import EfficientNet  # --> Efficient Net pytorch library\n",
    "\n",
    "import torch\n",
    "import torch.nn as nn\n",
    "import torch.optim as optim\n",
    "import torch.nn.functional as F\n",
    "import torchvision.datasets as dataset\n",
    "import torchvision.transforms as transforms\n",
    "\n",
    "from torch.utils.data import TensorDataset, SubsetRandomSampler"
   ]
  },
  {
   "cell_type": "markdown",
   "metadata": {},
   "source": [
    "### 2. DATASET\n",
    "- 2-1. Classic Dataset using torch\n",
    "- 2-2. Custom Dataset using dataset template\n",
    "- 2-3. ImageFolder using torchvision"
   ]
  },
  {
   "cell_type": "code",
   "execution_count": null,
   "metadata": {},
   "outputs": [],
   "source": [
    "# 2-1. Classic Dataset using torch\n",
    "# >>> torch.utils.data.TensorDataset\n",
    "\n",
    "dataset = TensorDataset(inps, tgts)"
   ]
  },
  {
   "cell_type": "code",
   "execution_count": null,
   "metadata": {},
   "outputs": [],
   "source": [
    "# 2-2. Custom Dataset using dataset template\n",
    "# >>> should override torch.utils.Dataset\n",
    "\n",
    "class CustomDataset(data.Dataset):\n",
    "    \n",
    "    def __init__(self, img_list, label_list, domain_list, transform=None):\n",
    "        self.img_list = img_list\n",
    "        self.label_list = label_list\n",
    "        self.domain_list = domain_list\n",
    "        self.transform = transform\n",
    "\n",
    "    def __len__(self):\n",
    "        return len(self.img_list)\n",
    "\n",
    "    def __getitem__(self, idx):\n",
    "        \n",
    "        image = Image.open(self.img_list[idx])\n",
    "        label = self.label_list[idx]\n",
    "        domain = [self.domain_list[idx]]\n",
    "\n",
    "        if self.transform:\n",
    "            image = self.transform(image)\n",
    "\n",
    "        return image, label, domain\n",
    "\n",
    "dataset = DF_dataset(img_list, label_list, domain_list, transformer)    "
   ]
  },
  {
   "cell_type": "code",
   "execution_count": null,
   "metadata": {},
   "outputs": [],
   "source": [
    "# 2-3. ImageFolder using torchvision\n",
    "# >>> torchvision.datasets.dataset.ImageFolder\n",
    "\n",
    "path = '/PATH/TO/DATASET/'\n",
    "dataset = dataset.ImageFolder(root=path,\n",
    "                           transform=transforms.Compose([\n",
    "                               transforms.ToTensor(),\n",
    "                               transforms.Normalize((0.485, 0.456, 0.406), (0.229, 0.224, 0.225))\n",
    "                           ]))"
   ]
  },
  {
   "cell_type": "markdown",
   "metadata": {},
   "source": [
    "### 3. Data Split & Loader"
   ]
  },
  {
   "cell_type": "code",
   "execution_count": null,
   "metadata": {},
   "outputs": [],
   "source": [
    "train_len = int(len(dataset) * 0.9)\n",
    "test_len = len(dataset) - train_len\n",
    "\n",
    "train_dataset, test_dataset = data.random_split(dataset, lengths=[train_len, test_len])\n",
    "\n",
    "train_loader = data.DataLoader(train_dataset, shuffle=True, batch_size=BATCH_SIZE,\n",
    "                              num_workers=4\n",
    "                              )\n",
    "\n",
    "test_loader = data.DataLoader(test_dataset, shuffle=True, batch_size=BATCH_SIZE,\n",
    "                              num_workers=4\n",
    "                             )"
   ]
  },
  {
   "cell_type": "markdown",
   "metadata": {},
   "source": [
    "### 4. Model"
   ]
  },
  {
   "cell_type": "code",
   "execution_count": null,
   "metadata": {},
   "outputs": [],
   "source": [
    "class My_model(nn.Module):\n",
    "    def __init__(self, pretrained, num_classes):\n",
    "        super(My_model, self).__init__()\n",
    "        \n",
    "        self.pretrained = pretrained\n",
    "        self.fc = nn.Sequential(nn.Linear(73728, 2024),\n",
    "                                nn.ReLU(),\n",
    "                                nn.Linear(2024, num_classes)\n",
    "                               )\n",
    "    \n",
    "    def forward(self, x):\n",
    "        x = self.pretrained.extract_features(x)\n",
    "        x = self.fc(x)\n",
    "        return x\n",
    "\n",
    "device = torch.device('cuda' if torch.cuda.is_available() else 'cpu')\n",
    "pretrained = resnet101_cbam(pretrained=True).to(device)\n",
    "\n",
    "#my_extended_model = nn.DataParallel(my_extended_model)    # Multi GPU\n",
    "model = My_model(pretrained=pretrained, num_classes = 2)\n",
    "model.to(device)\n",
    "model\n",
    "print('load model complete')"
   ]
  },
  {
   "cell_type": "markdown",
   "metadata": {},
   "source": [
    "### 5. Train & Test Phase"
   ]
  },
  {
   "cell_type": "code",
   "execution_count": null,
   "metadata": {},
   "outputs": [],
   "source": [
    "num_epochs = 100\n",
    "running_loss = 0.0\n",
    "total_step = len(train_loader)\n",
    "print(\"total_step %d\" % total_step)\n",
    "\n",
    "for epoch in range(num_epochs):\n",
    "    model.train()\n",
    "    running_loss = 0.0\n",
    "    \n",
    "    for i, (images, labels) in tqdm(enumerate(train_loader)):  \n",
    "        images = images.type(torch.FloatTensor).to(device)\n",
    "        labels = labels.type(torch.LongTensor).to(device)\n",
    "\n",
    "        # Forward pass\n",
    "        outputs = model(images)\n",
    "\n",
    "        loss = criterion(outputs, labels)\n",
    "\n",
    "        # Backward and optimize\n",
    "        optimizer.zero_grad()\n",
    "        loss.backward()\n",
    "        optimizer.step()\n",
    "        \n",
    "        running_loss += loss.item()\n",
    "        \n",
    "        if (i+1) % int(total_step/10) == 0:\n",
    "            print ('Epoch [{}/{}], Step [{}/{}], Loss: {:.4f}' \n",
    "                  .format(epoch+1, num_epochs, i+1, total_step, loss.item()))\n",
    "                \n",
    "    model.eval()\n",
    "    test_loss=0\n",
    "    with torch.no_grad():\n",
    "        correct = 0\n",
    "        total = 0\n",
    "        \n",
    "        for images, labels in val_loader:\n",
    "            images = images.type(torch.FloatTensor).to(device)\n",
    "            labels = labels.type(torch.LongTensor).to(device)\n",
    "            \n",
    "            outputs = model(images)\n",
    "            prediction = outputs.argmax(1)\n",
    "            \n",
    "            temp = outputs.tolist()\n",
    "            test_loss += criterion(outputs, labels)\n",
    "            correct += len([index for index, (e1, e2) in enumerate(zip(prediction, labels.tolist())) if e1 == e2])\n",
    "\n",
    "            test_loss /= len(val_loader.dataset)\n",
    "            \n",
    "        print('\\nTest set:\\n\\tAverage loss: {:.4f}'.format(test_loss))\n",
    "        print('\\tAccuracy: {}/{} ({:.0f}%)\\n'.format(correct,(len(val_loader) * val_loader.batch_size),100. * correct / (len(val_loader) * val_loader.batch_size)))\n",
    "        \n",
    "        name = \"savefile/1106_Resnet_binary/model\"+str(epoch+1)+\".pt\"\n",
    "        with open(name, \"wb\") as f:\n",
    "            torch.save({            'epoch': epoch,\n",
    "                'model_state_dict': model.state_dict(),\n",
    "                'optimizer_state_dict': optimizer.state_dict()},\n",
    "                f)"
   ]
  }
 ],
 "metadata": {
  "kernelspec": {
   "display_name": "torch",
   "language": "python",
   "name": "torch"
  },
  "language_info": {
   "codemirror_mode": {
    "name": "ipython",
    "version": 3
   },
   "file_extension": ".py",
   "mimetype": "text/x-python",
   "name": "python",
   "nbconvert_exporter": "python",
   "pygments_lexer": "ipython3",
   "version": "3.8.5"
  }
 },
 "nbformat": 4,
 "nbformat_minor": 4
}
